{
 "cells": [
  {
   "cell_type": "markdown",
   "id": "25277df9",
   "metadata": {},
   "source": [
    "# 2023 MLB Pitch Data - Month by Month Queries using Pybaseball\n",
    "\n",
    "In this project, we will use publicly available data from Baseball Savant ([baseballsavant.mlb.com](https://baseballsavant.mlb.com)), which will be accessed using the `pybaseball` package ([pybaseball GitHub](https://github.com/jldbc/pybaseball/blob/master/docs/statcast.md)). \n",
    "\n",
    "For simplicity, we will access and save this data locally. This data was accessed and saved on 21 May 2024."
   ]
  },
  {
   "cell_type": "markdown",
   "id": "9c9258c4",
   "metadata": {},
   "source": [
    "## Installing Pybaseball\n",
    "\n",
    "It is only neccessary to install `pybaseball` once, hence we leave the following code commented out."
   ]
  },
  {
   "cell_type": "code",
   "execution_count": 1,
   "id": "66ab057d",
   "metadata": {},
   "outputs": [],
   "source": [
    "# pip install pybaseball"
   ]
  },
  {
   "cell_type": "markdown",
   "id": "ee31e010",
   "metadata": {},
   "source": [
    "## Importing Necessary Packages\n",
    "\n",
    "Once `pybaseball` is installed, we import the necessary packages"
   ]
  },
  {
   "cell_type": "code",
   "execution_count": 2,
   "id": "3ce930ef",
   "metadata": {},
   "outputs": [],
   "source": [
    "import pandas as pd\n",
    "import pybaseball as pyb\n",
    "from pybaseball import statcast"
   ]
  },
  {
   "cell_type": "markdown",
   "id": "4f9e0f2a",
   "metadata": {},
   "source": [
    "## Getting Statcast Data\n",
    "\n",
    "The 2023 MLB regular season ran from March 30 to October 1. Given the amount of data being requested, we break up the season into 6 chunks (each approximately 1 month long) and save the each respective data frame as a CSV.\n",
    "\n",
    "Calling `statcast(date1, date2)` returns all pitch-level data from Statcast between `date1` and `date2`. Setting `verbose=True`provides progress as data is pulled."
   ]
  },
  {
   "cell_type": "markdown",
   "id": "31bb4e72",
   "metadata": {},
   "source": [
    "## Month1 - March 30, 2023 through April 30, 2023"
   ]
  },
  {
   "cell_type": "code",
   "execution_count": 3,
   "id": "71da01c5",
   "metadata": {},
   "outputs": [
    {
     "name": "stdout",
     "output_type": "stream",
     "text": [
      "This is a large query, it may take a moment to complete\n"
     ]
    },
    {
     "name": "stderr",
     "output_type": "stream",
     "text": [
      "100%|██████████| 32/32 [00:14<00:00,  2.24it/s]\n"
     ]
    }
   ],
   "source": [
    "month1 = statcast('2023-03-30', '2023-04-30', verbose=True)\n",
    "\n",
    "month1.to_csv(\"month1.csv\")"
   ]
  },
  {
   "cell_type": "markdown",
   "id": "3364f798",
   "metadata": {},
   "source": [
    "## Month2 - May 1, 2023 through May 31, 2023"
   ]
  },
  {
   "cell_type": "code",
   "execution_count": 4,
   "id": "099b381f",
   "metadata": {},
   "outputs": [
    {
     "name": "stdout",
     "output_type": "stream",
     "text": [
      "This is a large query, it may take a moment to complete\n"
     ]
    },
    {
     "name": "stderr",
     "output_type": "stream",
     "text": [
      "100%|██████████| 31/31 [00:21<00:00,  1.44it/s]\n"
     ]
    }
   ],
   "source": [
    "month2 = statcast('2023-05-01', '2023-05-31', verbose=True)\n",
    "\n",
    "month2.to_csv(\"month2.csv\")"
   ]
  },
  {
   "cell_type": "markdown",
   "id": "b68e875e",
   "metadata": {},
   "source": [
    "## Month3 - June 1, 2023 through June 30, 2023"
   ]
  },
  {
   "cell_type": "code",
   "execution_count": 5,
   "id": "cfe8ab68",
   "metadata": {},
   "outputs": [
    {
     "name": "stdout",
     "output_type": "stream",
     "text": [
      "This is a large query, it may take a moment to complete\n"
     ]
    },
    {
     "name": "stderr",
     "output_type": "stream",
     "text": [
      "100%|██████████| 30/30 [00:20<00:00,  1.48it/s]\n"
     ]
    }
   ],
   "source": [
    "month3 = statcast('2023-06-01', '2023-06-30', verbose=True)\n",
    "\n",
    "month3.to_csv(\"month3.csv\")"
   ]
  },
  {
   "cell_type": "markdown",
   "id": "b7f63cf5",
   "metadata": {},
   "source": [
    "## Month4 - July 1, 2023 through July 31, 2023"
   ]
  },
  {
   "cell_type": "code",
   "execution_count": 6,
   "id": "f03289ee",
   "metadata": {},
   "outputs": [
    {
     "name": "stdout",
     "output_type": "stream",
     "text": [
      "This is a large query, it may take a moment to complete\n"
     ]
    },
    {
     "name": "stderr",
     "output_type": "stream",
     "text": [
      "100%|██████████| 31/31 [00:20<00:00,  1.53it/s]\n"
     ]
    }
   ],
   "source": [
    "month4 = statcast('2023-07-01', '2023-07-31', verbose=True)\n",
    "\n",
    "month4.to_csv(\"month4.csv\")"
   ]
  },
  {
   "cell_type": "markdown",
   "id": "7211cf27",
   "metadata": {},
   "source": [
    "## Month5 - August 1, 2023 through August 31, 2023"
   ]
  },
  {
   "cell_type": "code",
   "execution_count": 7,
   "id": "551ded29",
   "metadata": {},
   "outputs": [
    {
     "name": "stdout",
     "output_type": "stream",
     "text": [
      "This is a large query, it may take a moment to complete\n"
     ]
    },
    {
     "name": "stderr",
     "output_type": "stream",
     "text": [
      "100%|██████████| 31/31 [00:21<00:00,  1.45it/s]\n"
     ]
    }
   ],
   "source": [
    "month5 = statcast('2023-08-01', '2023-08-31', verbose=True)\n",
    "\n",
    "month5.to_csv(\"month5.csv\")"
   ]
  },
  {
   "cell_type": "markdown",
   "id": "84533e72",
   "metadata": {},
   "source": [
    "## Month6 - September 1, 2023 through Oct 1, 2023"
   ]
  },
  {
   "cell_type": "code",
   "execution_count": 8,
   "id": "e4b2de5c",
   "metadata": {},
   "outputs": [
    {
     "name": "stdout",
     "output_type": "stream",
     "text": [
      "This is a large query, it may take a moment to complete\n"
     ]
    },
    {
     "name": "stderr",
     "output_type": "stream",
     "text": [
      "100%|██████████| 31/31 [00:23<00:00,  1.34it/s]\n"
     ]
    }
   ],
   "source": [
    "month6 = statcast('2023-09-01', '2023-10-01', verbose=True)\n",
    "\n",
    "month6.to_csv(\"month6.csv\")"
   ]
  }
 ],
 "metadata": {
  "kernelspec": {
   "display_name": "Python 3 (ipykernel)",
   "language": "python",
   "name": "python3"
  },
  "language_info": {
   "codemirror_mode": {
    "name": "ipython",
    "version": 3
   },
   "file_extension": ".py",
   "mimetype": "text/x-python",
   "name": "python",
   "nbconvert_exporter": "python",
   "pygments_lexer": "ipython3",
   "version": "3.11.3"
  }
 },
 "nbformat": 4,
 "nbformat_minor": 5
}
